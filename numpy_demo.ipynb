{
  "nbformat": 4,
  "nbformat_minor": 0,
  "metadata": {
    "colab": {
      "name": "numpy_demo.ipynb",
      "provenance": [],
      "collapsed_sections": [],
      "authorship_tag": "ABX9TyOq1fkkaykMDqKe2Gm/U5Zg",
      "include_colab_link": true
    },
    "kernelspec": {
      "name": "python3",
      "display_name": "Python 3"
    },
    "language_info": {
      "name": "python"
    }
  },
  "cells": [
    {
      "cell_type": "markdown",
      "metadata": {
        "id": "view-in-github",
        "colab_type": "text"
      },
      "source": [
        "<a href=\"https://colab.research.google.com/github/mahidhardurga/DataScience_Numpy_Practice/blob/main/numpy_demo.ipynb\" target=\"_parent\"><img src=\"https://colab.research.google.com/assets/colab-badge.svg\" alt=\"Open In Colab\"/></a>"
      ]
    },
    {
      "cell_type": "code",
      "metadata": {
        "colab": {
          "base_uri": "https://localhost:8080/"
        },
        "id": "X1WFc52SimHh",
        "outputId": "e57e0181-1bfd-4083-b6dd-f419f8951c43"
      },
      "source": [
        "!pip install numpy   #cmd to install numpy library"
      ],
      "execution_count": 1,
      "outputs": [
        {
          "output_type": "stream",
          "name": "stdout",
          "text": [
            "Requirement already satisfied: numpy in /usr/local/lib/python3.7/dist-packages (1.19.5)\n"
          ]
        }
      ]
    },
    {
      "cell_type": "code",
      "metadata": {
        "id": "i0Gt7PjfmWOU"
      },
      "source": [
        "import numpy as np  #importing numpy library"
      ],
      "execution_count": 2,
      "outputs": []
    },
    {
      "cell_type": "code",
      "metadata": {
        "colab": {
          "base_uri": "https://localhost:8080/"
        },
        "id": "NuqsG_XFnHWm",
        "outputId": "215c6169-22e6-4b65-de4b-1312f6d7e987"
      },
      "source": [
        "my_list = [1,2,3]\n",
        "n = np.array(my_list)   #converting list to array using numpy library\n",
        "n"
      ],
      "execution_count": 3,
      "outputs": [
        {
          "output_type": "execute_result",
          "data": {
            "text/plain": [
              "array([1, 2, 3])"
            ]
          },
          "metadata": {},
          "execution_count": 3
        }
      ]
    },
    {
      "cell_type": "code",
      "metadata": {
        "colab": {
          "base_uri": "https://localhost:8080/"
        },
        "id": "HqULaYm3nQx_",
        "outputId": "d8b5aada-e27a-44ce-c679-4b9d54822978"
      },
      "source": [
        "type(my_list)   #tells the type of the variable"
      ],
      "execution_count": 5,
      "outputs": [
        {
          "output_type": "execute_result",
          "data": {
            "text/plain": [
              "list"
            ]
          },
          "metadata": {},
          "execution_count": 5
        }
      ]
    },
    {
      "cell_type": "code",
      "metadata": {
        "colab": {
          "base_uri": "https://localhost:8080/"
        },
        "id": "NZB_3wUjnst3",
        "outputId": "2821460e-f465-405d-dcdb-f8bd3779d836"
      },
      "source": [
        "type(n)         #tells the type of the variable"
      ],
      "execution_count": 6,
      "outputs": [
        {
          "output_type": "execute_result",
          "data": {
            "text/plain": [
              "numpy.ndarray"
            ]
          },
          "metadata": {},
          "execution_count": 6
        }
      ]
    },
    {
      "cell_type": "markdown",
      "metadata": {
        "id": "mzD0rQA5oJlr"
      },
      "source": [
        "#Multi Dimensional Array"
      ]
    },
    {
      "cell_type": "code",
      "metadata": {
        "colab": {
          "base_uri": "https://localhost:8080/"
        },
        "id": "YkXqus0NoWXw",
        "outputId": "55c41aa9-7af5-4bef-d523-444e539c6c4f"
      },
      "source": [
        "list_of_lists = np.array([[1,2,3],[4,5,6],[7,8,9]])   #creating Multi Dimensional Array\n",
        "list_of_lists"
      ],
      "execution_count": 7,
      "outputs": [
        {
          "output_type": "execute_result",
          "data": {
            "text/plain": [
              "array([[1, 2, 3],\n",
              "       [4, 5, 6],\n",
              "       [7, 8, 9]])"
            ]
          },
          "metadata": {},
          "execution_count": 7
        }
      ]
    },
    {
      "cell_type": "code",
      "metadata": {
        "colab": {
          "base_uri": "https://localhost:8080/"
        },
        "id": "km5H3SvsoqED",
        "outputId": "1c7f89f7-5380-4145-ddf1-e06fe2be9f19"
      },
      "source": [
        "list_of_lists.shape"
      ],
      "execution_count": 8,
      "outputs": [
        {
          "output_type": "execute_result",
          "data": {
            "text/plain": [
              "(3, 3)"
            ]
          },
          "metadata": {},
          "execution_count": 8
        }
      ]
    },
    {
      "cell_type": "code",
      "metadata": {
        "colab": {
          "base_uri": "https://localhost:8080/"
        },
        "id": "IiJ27j00o8jA",
        "outputId": "fbedc5d9-4939-4406-f06c-3274704bec14"
      },
      "source": [
        "np.arange(0,10)    #returns array with elements between 0,10\n",
        "\n",
        "#np.arange(10)  same as above"
      ],
      "execution_count": 10,
      "outputs": [
        {
          "output_type": "execute_result",
          "data": {
            "text/plain": [
              "array([0, 1, 2, 3, 4, 5, 6, 7, 8, 9])"
            ]
          },
          "metadata": {},
          "execution_count": 10
        }
      ]
    },
    {
      "cell_type": "code",
      "metadata": {
        "colab": {
          "base_uri": "https://localhost:8080/"
        },
        "id": "I04rYUeFpVsC",
        "outputId": "68ab81b7-b15c-4dd7-aec3-6b3adad76060"
      },
      "source": [
        "np.arange(0,10,2)    #returns array with elements between 0,10 with difference of 2"
      ],
      "execution_count": 11,
      "outputs": [
        {
          "output_type": "execute_result",
          "data": {
            "text/plain": [
              "array([0, 2, 4, 6, 8])"
            ]
          },
          "metadata": {},
          "execution_count": 11
        }
      ]
    },
    {
      "cell_type": "code",
      "metadata": {
        "colab": {
          "base_uri": "https://localhost:8080/"
        },
        "id": "7nD-qbxqpsmu",
        "outputId": "63a93f7f-6ebf-4eeb-aac8-036f28ad8b92"
      },
      "source": [
        "zero = np.zeros(50)   #returns array with all elements as 0\n",
        "zero"
      ],
      "execution_count": 13,
      "outputs": [
        {
          "output_type": "execute_result",
          "data": {
            "text/plain": [
              "array([0., 0., 0., 0., 0., 0., 0., 0., 0., 0., 0., 0., 0., 0., 0., 0., 0.,\n",
              "       0., 0., 0., 0., 0., 0., 0., 0., 0., 0., 0., 0., 0., 0., 0., 0., 0.,\n",
              "       0., 0., 0., 0., 0., 0., 0., 0., 0., 0., 0., 0., 0., 0., 0., 0.])"
            ]
          },
          "metadata": {},
          "execution_count": 13
        }
      ]
    },
    {
      "cell_type": "code",
      "metadata": {
        "colab": {
          "base_uri": "https://localhost:8080/"
        },
        "id": "t5m9GpybqvTe",
        "outputId": "506517e7-f2c6-4be2-9d66-87b96472b676"
      },
      "source": [
        "np.ones((3,3))   #returns array with all elements as 1"
      ],
      "execution_count": 28,
      "outputs": [
        {
          "output_type": "execute_result",
          "data": {
            "text/plain": [
              "array([[1., 1., 1.],\n",
              "       [1., 1., 1.],\n",
              "       [1., 1., 1.]])"
            ]
          },
          "metadata": {},
          "execution_count": 28
        }
      ]
    },
    {
      "cell_type": "code",
      "metadata": {
        "colab": {
          "base_uri": "https://localhost:8080/"
        },
        "id": "vWm6vcsOq0ND",
        "outputId": "17b1ade6-d06d-4457-badb-c3e1ebc09d85"
      },
      "source": [
        "a = np.eye(5)  #returns ndarray with diagonals 1\n",
        "a"
      ],
      "execution_count": 27,
      "outputs": [
        {
          "output_type": "execute_result",
          "data": {
            "text/plain": [
              "array([[1., 0., 0., 0., 0.],\n",
              "       [0., 1., 0., 0., 0.],\n",
              "       [0., 0., 1., 0., 0.],\n",
              "       [0., 0., 0., 1., 0.],\n",
              "       [0., 0., 0., 0., 1.]])"
            ]
          },
          "metadata": {},
          "execution_count": 27
        }
      ]
    },
    {
      "cell_type": "code",
      "metadata": {
        "colab": {
          "base_uri": "https://localhost:8080/"
        },
        "id": "WWTux0d_rF9t",
        "outputId": "30f93bb0-debb-493b-e222-7319837c09c5"
      },
      "source": [
        "mn = np.arange(0,50)  #returns array with 50 elements\n",
        "mn"
      ],
      "execution_count": 18,
      "outputs": [
        {
          "output_type": "execute_result",
          "data": {
            "text/plain": [
              "array([ 0,  1,  2,  3,  4,  5,  6,  7,  8,  9, 10, 11, 12, 13, 14, 15, 16,\n",
              "       17, 18, 19, 20, 21, 22, 23, 24, 25, 26, 27, 28, 29, 30, 31, 32, 33,\n",
              "       34, 35, 36, 37, 38, 39, 40, 41, 42, 43, 44, 45, 46, 47, 48, 49])"
            ]
          },
          "metadata": {},
          "execution_count": 18
        }
      ]
    },
    {
      "cell_type": "code",
      "metadata": {
        "colab": {
          "base_uri": "https://localhost:8080/"
        },
        "id": "9hiqpfBsrYXK",
        "outputId": "bd8bec6a-08a9-4906-9217-d1862cc6400f"
      },
      "source": [
        "len(mn)"
      ],
      "execution_count": 19,
      "outputs": [
        {
          "output_type": "execute_result",
          "data": {
            "text/plain": [
              "50"
            ]
          },
          "metadata": {},
          "execution_count": 19
        }
      ]
    },
    {
      "cell_type": "code",
      "metadata": {
        "colab": {
          "base_uri": "https://localhost:8080/"
        },
        "id": "B1s9YMOxraBK",
        "outputId": "f18e8aba-5471-4eb7-f2bc-304b0217c31e"
      },
      "source": [
        "mn.reshape(10,5)  #re-organise the output and will not effect/alters the original dataset"
      ],
      "execution_count": 21,
      "outputs": [
        {
          "output_type": "execute_result",
          "data": {
            "text/plain": [
              "array([[ 0,  1,  2,  3,  4],\n",
              "       [ 5,  6,  7,  8,  9],\n",
              "       [10, 11, 12, 13, 14],\n",
              "       [15, 16, 17, 18, 19],\n",
              "       [20, 21, 22, 23, 24],\n",
              "       [25, 26, 27, 28, 29],\n",
              "       [30, 31, 32, 33, 34],\n",
              "       [35, 36, 37, 38, 39],\n",
              "       [40, 41, 42, 43, 44],\n",
              "       [45, 46, 47, 48, 49]])"
            ]
          },
          "metadata": {},
          "execution_count": 21
        }
      ]
    },
    {
      "cell_type": "code",
      "metadata": {
        "colab": {
          "base_uri": "https://localhost:8080/"
        },
        "id": "-4oaggRVruHK",
        "outputId": "6ab2cf84-3668-49b9-e350-1131fbec9f33"
      },
      "source": [
        "o = np.linspace(0,7,10)  #returns 10 evenly spaced numbers between 0,7\n",
        "o"
      ],
      "execution_count": 25,
      "outputs": [
        {
          "output_type": "execute_result",
          "data": {
            "text/plain": [
              "array([0.        , 0.77777778, 1.55555556, 2.33333333, 3.11111111,\n",
              "       3.88888889, 4.66666667, 5.44444444, 6.22222222, 7.        ])"
            ]
          },
          "metadata": {},
          "execution_count": 25
        }
      ]
    },
    {
      "cell_type": "code",
      "metadata": {
        "colab": {
          "base_uri": "https://localhost:8080/"
        },
        "id": "kzZW0xOVsLoX",
        "outputId": "3860eaf4-13a2-4a83-b120-68d27208d422"
      },
      "source": [
        "len(o)    #returns the length of the variable"
      ],
      "execution_count": 29,
      "outputs": [
        {
          "output_type": "execute_result",
          "data": {
            "text/plain": [
              "10"
            ]
          },
          "metadata": {},
          "execution_count": 29
        }
      ]
    },
    {
      "cell_type": "code",
      "metadata": {
        "id": "bZzJr1NVsefX"
      },
      "source": [
        "o.resize(5,2)    #resize will effect/alters the orginal dataset(i.e way of displaying output will effect/alter)"
      ],
      "execution_count": 30,
      "outputs": []
    },
    {
      "cell_type": "code",
      "metadata": {
        "colab": {
          "base_uri": "https://localhost:8080/"
        },
        "id": "JOrgWYCcuhR9",
        "outputId": "cbb42cc8-6500-4611-9dbb-5ef6f3caa259"
      },
      "source": [
        "o"
      ],
      "execution_count": 31,
      "outputs": [
        {
          "output_type": "execute_result",
          "data": {
            "text/plain": [
              "array([[0.        , 0.77777778],\n",
              "       [1.55555556, 2.33333333],\n",
              "       [3.11111111, 3.88888889],\n",
              "       [4.66666667, 5.44444444],\n",
              "       [6.22222222, 7.        ]])"
            ]
          },
          "metadata": {},
          "execution_count": 31
        }
      ]
    },
    {
      "cell_type": "markdown",
      "metadata": {
        "id": "lKj_xyU5wGed"
      },
      "source": [
        "# **Generating SomeRandom Values**"
      ]
    },
    {
      "cell_type": "code",
      "metadata": {
        "colab": {
          "base_uri": "https://localhost:8080/"
        },
        "id": "VnhUJaiPuibD",
        "outputId": "075f8392-7a8c-480d-8afb-c305d6ee7d83"
      },
      "source": [
        "np.random.rand(3,2)   #create an array with given shape and populate it with random samples from a uniform distribution over [0,1]"
      ],
      "execution_count": 34,
      "outputs": [
        {
          "output_type": "execute_result",
          "data": {
            "text/plain": [
              "array([[0.88146265, 0.78090969],\n",
              "       [0.53618368, 0.05180279],\n",
              "       [0.86379877, 0.53297427]])"
            ]
          },
          "metadata": {},
          "execution_count": 34
        }
      ]
    },
    {
      "cell_type": "code",
      "metadata": {
        "colab": {
          "base_uri": "https://localhost:8080/"
        },
        "id": "ZfMU7ZSawTMf",
        "outputId": "050be5d1-abc8-4ae0-d978-699e56e14bfc"
      },
      "source": [
        "a = np.random.randn(3,3)   #Returns a sample (or samples) from the \"standard normal\"  distribution\n",
        "a  "
      ],
      "execution_count": 38,
      "outputs": [
        {
          "output_type": "execute_result",
          "data": {
            "text/plain": [
              "array([[-1.61838842,  0.16001094, -1.10759718],\n",
              "       [ 1.95600132,  0.53386754,  0.5598657 ],\n",
              "       [ 0.14469919, -0.26884851,  0.34378538]])"
            ]
          },
          "metadata": {},
          "execution_count": 38
        }
      ]
    },
    {
      "cell_type": "code",
      "metadata": {
        "colab": {
          "base_uri": "https://localhost:8080/"
        },
        "id": "mUWLhyBixRo5",
        "outputId": "5fde8082-5a57-4a53-9be9-e0100c5b924a"
      },
      "source": [
        "#Generating 10 random integers between 4,15\n",
        "mn = np.random.randint(4,15,10)   #Returns random integers from low to high\n",
        "mn"
      ],
      "execution_count": 41,
      "outputs": [
        {
          "output_type": "execute_result",
          "data": {
            "text/plain": [
              "array([ 6, 10, 12, 13,  8, 14,  7,  4, 13, 12])"
            ]
          },
          "metadata": {},
          "execution_count": 41
        }
      ]
    },
    {
      "cell_type": "code",
      "metadata": {
        "colab": {
          "base_uri": "https://localhost:8080/"
        },
        "id": "vxRlfSK9yaMT",
        "outputId": "fe9ed26b-541b-4608-d6e7-2d169354bd18"
      },
      "source": [
        "mn.reshape(5,2)"
      ],
      "execution_count": 42,
      "outputs": [
        {
          "output_type": "execute_result",
          "data": {
            "text/plain": [
              "array([[ 6, 10],\n",
              "       [12, 13],\n",
              "       [ 8, 14],\n",
              "       [ 7,  4],\n",
              "       [13, 12]])"
            ]
          },
          "metadata": {},
          "execution_count": 42
        }
      ]
    },
    {
      "cell_type": "code",
      "metadata": {
        "colab": {
          "base_uri": "https://localhost:8080/"
        },
        "id": "loLZvH1Py_zJ",
        "outputId": "0e25aca4-c7c6-45b1-c684-c841f1a25876"
      },
      "source": [
        "tt = np.random.randint(4,15,(5,2))   #Returns random integers from low to high with reshape directly\n",
        "tt"
      ],
      "execution_count": 44,
      "outputs": [
        {
          "output_type": "execute_result",
          "data": {
            "text/plain": [
              "array([[ 5, 10],\n",
              "       [10, 14],\n",
              "       [11,  9],\n",
              "       [ 4,  7],\n",
              "       [ 7, 10]])"
            ]
          },
          "metadata": {},
          "execution_count": 44
        }
      ]
    },
    {
      "cell_type": "code",
      "metadata": {
        "id": "f8eGJHAgzQKQ"
      },
      "source": [
        ""
      ],
      "execution_count": null,
      "outputs": []
    }
  ]
}