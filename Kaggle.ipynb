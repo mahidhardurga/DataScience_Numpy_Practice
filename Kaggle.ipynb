{
  "nbformat": 4,
  "nbformat_minor": 0,
  "metadata": {
    "colab": {
      "name": "Kaggle.ipynb",
      "provenance": [],
      "authorship_tag": "ABX9TyMZoPNZIfaa+Wu+a+QYOBse",
      "include_colab_link": true
    },
    "kernelspec": {
      "name": "python3",
      "display_name": "Python 3"
    },
    "language_info": {
      "name": "python"
    }
  },
  "cells": [
    {
      "cell_type": "markdown",
      "metadata": {
        "id": "view-in-github",
        "colab_type": "text"
      },
      "source": [
        "<a href=\"https://colab.research.google.com/github/mahidhardurga/DataScience_Numpy_Practice/blob/main/Kaggle.ipynb\" target=\"_parent\"><img src=\"https://colab.research.google.com/assets/colab-badge.svg\" alt=\"Open In Colab\"/></a>"
      ]
    },
    {
      "cell_type": "code",
      "metadata": {
        "colab": {
          "base_uri": "https://localhost:8080/"
        },
        "id": "a0RenbclMlhP",
        "outputId": "4695f289-5c11-4700-e631-bc74339e8e0a"
      },
      "source": [
        "!pip install opendatasets"
      ],
      "execution_count": null,
      "outputs": [
        {
          "output_type": "stream",
          "name": "stdout",
          "text": [
            "Collecting opendatasets\n",
            "  Downloading opendatasets-0.1.20-py3-none-any.whl (14 kB)\n",
            "Requirement already satisfied: click in /usr/local/lib/python3.7/dist-packages (from opendatasets) (7.1.2)\n",
            "Requirement already satisfied: kaggle in /usr/local/lib/python3.7/dist-packages (from opendatasets) (1.5.12)\n",
            "Requirement already satisfied: tqdm in /usr/local/lib/python3.7/dist-packages (from opendatasets) (4.62.2)\n",
            "Requirement already satisfied: urllib3 in /usr/local/lib/python3.7/dist-packages (from kaggle->opendatasets) (1.24.3)\n",
            "Requirement already satisfied: requests in /usr/local/lib/python3.7/dist-packages (from kaggle->opendatasets) (2.23.0)\n",
            "Requirement already satisfied: six>=1.10 in /usr/local/lib/python3.7/dist-packages (from kaggle->opendatasets) (1.15.0)\n",
            "Requirement already satisfied: certifi in /usr/local/lib/python3.7/dist-packages (from kaggle->opendatasets) (2021.5.30)\n",
            "Requirement already satisfied: python-dateutil in /usr/local/lib/python3.7/dist-packages (from kaggle->opendatasets) (2.8.2)\n",
            "Requirement already satisfied: python-slugify in /usr/local/lib/python3.7/dist-packages (from kaggle->opendatasets) (5.0.2)\n",
            "Requirement already satisfied: text-unidecode>=1.3 in /usr/local/lib/python3.7/dist-packages (from python-slugify->kaggle->opendatasets) (1.3)\n",
            "Requirement already satisfied: chardet<4,>=3.0.2 in /usr/local/lib/python3.7/dist-packages (from requests->kaggle->opendatasets) (3.0.4)\n",
            "Requirement already satisfied: idna<3,>=2.5 in /usr/local/lib/python3.7/dist-packages (from requests->kaggle->opendatasets) (2.10)\n",
            "Installing collected packages: opendatasets\n",
            "Successfully installed opendatasets-0.1.20\n"
          ]
        }
      ]
    },
    {
      "cell_type": "code",
      "metadata": {
        "id": "5ohGjo_sMTBq"
      },
      "source": [
        "import opendatasets as od"
      ],
      "execution_count": null,
      "outputs": []
    },
    {
      "cell_type": "code",
      "metadata": {
        "colab": {
          "base_uri": "https://localhost:8080/"
        },
        "id": "9QmGhk07MamH",
        "outputId": "2af6feaa-0ca1-46eb-89f1-f838b93e7618"
      },
      "source": [
        "od.download(\"https://www.kaggle.com/c/nfl-big-data-bowl-2022/data\")"
      ],
      "execution_count": 5,
      "outputs": [
        {
          "output_type": "stream",
          "name": "stdout",
          "text": [
            "Skipping, found downloaded files in \"./nfl-big-data-bowl-2022\" (use force=True to force download)\n"
          ]
        }
      ]
    },
    {
      "cell_type": "code",
      "metadata": {
        "id": "zrjBc5ZkM_Ov",
        "colab": {
          "base_uri": "https://localhost:8080/",
          "height": 35
        },
        "outputId": "0e859302-858a-456d-d6cb-753abf835489"
      },
      "source": [
        "pwd"
      ],
      "execution_count": 6,
      "outputs": [
        {
          "output_type": "execute_result",
          "data": {
            "application/vnd.google.colaboratory.intrinsic+json": {
              "type": "string"
            },
            "text/plain": [
              "'/content'"
            ]
          },
          "metadata": {},
          "execution_count": 6
        }
      ]
    },
    {
      "cell_type": "code",
      "metadata": {
        "id": "5eid35XJO0j4"
      },
      "source": [
        "import pandas as pd"
      ],
      "execution_count": 7,
      "outputs": []
    },
    {
      "cell_type": "code",
      "metadata": {
        "id": "T7yCc333PIxi"
      },
      "source": [
        "import os "
      ],
      "execution_count": 8,
      "outputs": []
    },
    {
      "cell_type": "code",
      "metadata": {
        "colab": {
          "base_uri": "https://localhost:8080/"
        },
        "id": "bIHGJQvkPLm_",
        "outputId": "e95720c3-e284-4df1-e36e-98c81dcf6819"
      },
      "source": [
        "os.listdir()"
      ],
      "execution_count": 9,
      "outputs": [
        {
          "output_type": "execute_result",
          "data": {
            "text/plain": [
              "['.config', 'nfl-big-data-bowl-2022', 'sample_data']"
            ]
          },
          "metadata": {},
          "execution_count": 9
        }
      ]
    },
    {
      "cell_type": "code",
      "metadata": {
        "id": "Bnc1mvoVPOdE"
      },
      "source": [
        "df = pd.read_csv('./nfl-big-data-bowl-2022/games.csv')"
      ],
      "execution_count": 10,
      "outputs": []
    },
    {
      "cell_type": "code",
      "metadata": {
        "colab": {
          "base_uri": "https://localhost:8080/"
        },
        "id": "cfI1sSsfPwrz",
        "outputId": "164fabe1-ac59-4920-ad29-3ef590673d35"
      },
      "source": [
        "df.info()"
      ],
      "execution_count": 11,
      "outputs": [
        {
          "output_type": "stream",
          "name": "stdout",
          "text": [
            "<class 'pandas.core.frame.DataFrame'>\n",
            "RangeIndex: 764 entries, 0 to 763\n",
            "Data columns (total 7 columns):\n",
            " #   Column           Non-Null Count  Dtype \n",
            "---  ------           --------------  ----- \n",
            " 0   gameId           764 non-null    int64 \n",
            " 1   season           764 non-null    int64 \n",
            " 2   week             764 non-null    int64 \n",
            " 3   gameDate         764 non-null    object\n",
            " 4   gameTimeEastern  764 non-null    object\n",
            " 5   homeTeamAbbr     764 non-null    object\n",
            " 6   visitorTeamAbbr  764 non-null    object\n",
            "dtypes: int64(3), object(4)\n",
            "memory usage: 41.9+ KB\n"
          ]
        }
      ]
    },
    {
      "cell_type": "code",
      "metadata": {
        "colab": {
          "base_uri": "https://localhost:8080/",
          "height": 363
        },
        "id": "uZMOZF6ZP0Ss",
        "outputId": "6cca87f2-b35e-4349-eabc-37bc895d226d"
      },
      "source": [
        "df.head(10)"
      ],
      "execution_count": 14,
      "outputs": [
        {
          "output_type": "execute_result",
          "data": {
            "text/html": [
              "<div>\n",
              "<style scoped>\n",
              "    .dataframe tbody tr th:only-of-type {\n",
              "        vertical-align: middle;\n",
              "    }\n",
              "\n",
              "    .dataframe tbody tr th {\n",
              "        vertical-align: top;\n",
              "    }\n",
              "\n",
              "    .dataframe thead th {\n",
              "        text-align: right;\n",
              "    }\n",
              "</style>\n",
              "<table border=\"1\" class=\"dataframe\">\n",
              "  <thead>\n",
              "    <tr style=\"text-align: right;\">\n",
              "      <th></th>\n",
              "      <th>gameId</th>\n",
              "      <th>season</th>\n",
              "      <th>week</th>\n",
              "      <th>gameDate</th>\n",
              "      <th>gameTimeEastern</th>\n",
              "      <th>homeTeamAbbr</th>\n",
              "      <th>visitorTeamAbbr</th>\n",
              "    </tr>\n",
              "  </thead>\n",
              "  <tbody>\n",
              "    <tr>\n",
              "      <th>0</th>\n",
              "      <td>2018090600</td>\n",
              "      <td>2018</td>\n",
              "      <td>1</td>\n",
              "      <td>09/06/2018</td>\n",
              "      <td>20:20:00</td>\n",
              "      <td>PHI</td>\n",
              "      <td>ATL</td>\n",
              "    </tr>\n",
              "    <tr>\n",
              "      <th>1</th>\n",
              "      <td>2018090900</td>\n",
              "      <td>2018</td>\n",
              "      <td>1</td>\n",
              "      <td>09/09/2018</td>\n",
              "      <td>13:00:00</td>\n",
              "      <td>BAL</td>\n",
              "      <td>BUF</td>\n",
              "    </tr>\n",
              "    <tr>\n",
              "      <th>2</th>\n",
              "      <td>2018090901</td>\n",
              "      <td>2018</td>\n",
              "      <td>1</td>\n",
              "      <td>09/09/2018</td>\n",
              "      <td>13:00:00</td>\n",
              "      <td>CLE</td>\n",
              "      <td>PIT</td>\n",
              "    </tr>\n",
              "    <tr>\n",
              "      <th>3</th>\n",
              "      <td>2018090902</td>\n",
              "      <td>2018</td>\n",
              "      <td>1</td>\n",
              "      <td>09/09/2018</td>\n",
              "      <td>13:00:00</td>\n",
              "      <td>IND</td>\n",
              "      <td>CIN</td>\n",
              "    </tr>\n",
              "    <tr>\n",
              "      <th>4</th>\n",
              "      <td>2018090903</td>\n",
              "      <td>2018</td>\n",
              "      <td>1</td>\n",
              "      <td>09/09/2018</td>\n",
              "      <td>13:00:00</td>\n",
              "      <td>MIA</td>\n",
              "      <td>TEN</td>\n",
              "    </tr>\n",
              "    <tr>\n",
              "      <th>5</th>\n",
              "      <td>2018090905</td>\n",
              "      <td>2018</td>\n",
              "      <td>1</td>\n",
              "      <td>09/09/2018</td>\n",
              "      <td>13:00:00</td>\n",
              "      <td>NE</td>\n",
              "      <td>HOU</td>\n",
              "    </tr>\n",
              "    <tr>\n",
              "      <th>6</th>\n",
              "      <td>2018090906</td>\n",
              "      <td>2018</td>\n",
              "      <td>1</td>\n",
              "      <td>09/09/2018</td>\n",
              "      <td>13:00:00</td>\n",
              "      <td>NO</td>\n",
              "      <td>TB</td>\n",
              "    </tr>\n",
              "    <tr>\n",
              "      <th>7</th>\n",
              "      <td>2018090907</td>\n",
              "      <td>2018</td>\n",
              "      <td>1</td>\n",
              "      <td>09/09/2018</td>\n",
              "      <td>13:00:00</td>\n",
              "      <td>NYG</td>\n",
              "      <td>JAX</td>\n",
              "    </tr>\n",
              "    <tr>\n",
              "      <th>8</th>\n",
              "      <td>2018090909</td>\n",
              "      <td>2018</td>\n",
              "      <td>1</td>\n",
              "      <td>09/09/2018</td>\n",
              "      <td>16:25:00</td>\n",
              "      <td>ARI</td>\n",
              "      <td>WAS</td>\n",
              "    </tr>\n",
              "    <tr>\n",
              "      <th>9</th>\n",
              "      <td>2018090910</td>\n",
              "      <td>2018</td>\n",
              "      <td>1</td>\n",
              "      <td>09/09/2018</td>\n",
              "      <td>16:25:00</td>\n",
              "      <td>CAR</td>\n",
              "      <td>DAL</td>\n",
              "    </tr>\n",
              "  </tbody>\n",
              "</table>\n",
              "</div>"
            ],
            "text/plain": [
              "       gameId  season  week  ... gameTimeEastern homeTeamAbbr visitorTeamAbbr\n",
              "0  2018090600    2018     1  ...        20:20:00          PHI             ATL\n",
              "1  2018090900    2018     1  ...        13:00:00          BAL             BUF\n",
              "2  2018090901    2018     1  ...        13:00:00          CLE             PIT\n",
              "3  2018090902    2018     1  ...        13:00:00          IND             CIN\n",
              "4  2018090903    2018     1  ...        13:00:00          MIA             TEN\n",
              "5  2018090905    2018     1  ...        13:00:00           NE             HOU\n",
              "6  2018090906    2018     1  ...        13:00:00           NO              TB\n",
              "7  2018090907    2018     1  ...        13:00:00          NYG             JAX\n",
              "8  2018090909    2018     1  ...        16:25:00          ARI             WAS\n",
              "9  2018090910    2018     1  ...        16:25:00          CAR             DAL\n",
              "\n",
              "[10 rows x 7 columns]"
            ]
          },
          "metadata": {},
          "execution_count": 14
        }
      ]
    },
    {
      "cell_type": "code",
      "metadata": {
        "colab": {
          "base_uri": "https://localhost:8080/"
        },
        "id": "CAW7K8XsP4y_",
        "outputId": "70dcba0c-d99b-4c7f-dab5-1fc927ff130b"
      },
      "source": [
        "ls"
      ],
      "execution_count": 15,
      "outputs": [
        {
          "output_type": "stream",
          "name": "stdout",
          "text": [
            "\u001b[0m\u001b[01;34mnfl-big-data-bowl-2022\u001b[0m/  \u001b[01;34msample_data\u001b[0m/\n"
          ]
        }
      ]
    },
    {
      "cell_type": "code",
      "metadata": {
        "colab": {
          "base_uri": "https://localhost:8080/",
          "height": 35
        },
        "id": "u2F7nEA9QEKz",
        "outputId": "b2742a55-7d6e-48bb-c84f-a4f547e3cc25"
      },
      "source": [
        "pwd"
      ],
      "execution_count": 16,
      "outputs": [
        {
          "output_type": "execute_result",
          "data": {
            "application/vnd.google.colaboratory.intrinsic+json": {
              "type": "string"
            },
            "text/plain": [
              "'/content'"
            ]
          },
          "metadata": {},
          "execution_count": 16
        }
      ]
    },
    {
      "cell_type": "code",
      "metadata": {
        "colab": {
          "base_uri": "https://localhost:8080/",
          "height": 35
        },
        "id": "qI6CGIU5QISy",
        "outputId": "634f8008-399c-4394-aa20-6966942d28a9"
      },
      "source": [
        "os.getcwd()"
      ],
      "execution_count": 18,
      "outputs": [
        {
          "output_type": "execute_result",
          "data": {
            "application/vnd.google.colaboratory.intrinsic+json": {
              "type": "string"
            },
            "text/plain": [
              "'/content'"
            ]
          },
          "metadata": {},
          "execution_count": 18
        }
      ]
    },
    {
      "cell_type": "code",
      "metadata": {
        "id": "b5VbTgtzQSeb"
      },
      "source": [
        "os.chdir('nfl-big-data-bowl-2022')"
      ],
      "execution_count": 20,
      "outputs": []
    },
    {
      "cell_type": "code",
      "metadata": {
        "colab": {
          "base_uri": "https://localhost:8080/",
          "height": 35
        },
        "id": "ONP_3AY8QkS0",
        "outputId": "81ce81b0-67d1-4817-ea83-82e4034dfe30"
      },
      "source": [
        "os.getcwd()"
      ],
      "execution_count": 21,
      "outputs": [
        {
          "output_type": "execute_result",
          "data": {
            "application/vnd.google.colaboratory.intrinsic+json": {
              "type": "string"
            },
            "text/plain": [
              "'/content/nfl-big-data-bowl-2022'"
            ]
          },
          "metadata": {},
          "execution_count": 21
        }
      ]
    },
    {
      "cell_type": "code",
      "metadata": {
        "colab": {
          "base_uri": "https://localhost:8080/"
        },
        "id": "klxs7fSFQsz1",
        "outputId": "bb4e80eb-3007-401c-f915-e9957489435e"
      },
      "source": [
        "os.listdir()"
      ],
      "execution_count": 22,
      "outputs": [
        {
          "output_type": "execute_result",
          "data": {
            "text/plain": [
              "['plays.csv',\n",
              " 'tracking2020.csv',\n",
              " 'players.csv',\n",
              " 'tracking2019.csv',\n",
              " 'PFFScoutingData.csv',\n",
              " 'games.csv',\n",
              " 'tracking2018.csv']"
            ]
          },
          "metadata": {},
          "execution_count": 22
        }
      ]
    },
    {
      "cell_type": "code",
      "metadata": {
        "id": "JAMshQTpQxem"
      },
      "source": [
        ""
      ],
      "execution_count": null,
      "outputs": []
    }
  ]
}